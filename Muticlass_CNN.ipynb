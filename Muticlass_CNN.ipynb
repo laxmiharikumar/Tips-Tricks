{
  "nbformat": 4,
  "nbformat_minor": 0,
  "metadata": {
    "colab": {
      "provenance": [],
      "authorship_tag": "ABX9TyPzmv/O0ToGzmut2pZNTXeZ",
      "include_colab_link": true
    },
    "kernelspec": {
      "name": "python3",
      "display_name": "Python 3"
    },
    "language_info": {
      "name": "python"
    },
    "gpuClass": "standard",
    "accelerator": "GPU"
  },
  "cells": [
    {
      "cell_type": "markdown",
      "metadata": {
        "id": "view-in-github",
        "colab_type": "text"
      },
      "source": [
        "<a href=\"https://colab.research.google.com/github/laxmiharikumar/Tips-Tricks/blob/master/Muticlass_CNN.ipynb\" target=\"_parent\"><img src=\"https://colab.research.google.com/assets/colab-badge.svg\" alt=\"Open In Colab\"/></a>"
      ]
    },
    {
      "cell_type": "markdown",
      "source": [
        "# Multi-class image classification\n",
        "\n",
        "1. Become one with the data\n",
        "2. Preprocess the data (get it ready for the model)\n",
        "3. Create a model (baseline)\n",
        "4. Fit the model (overfit it to make sure that it works)\n",
        "5. Evaluate the model\n",
        "6. Adjust the different hyper parameters and improve the model (try to beat the baseline/reduce overfitting)\n",
        "7. Repeat until satisfied"
      ],
      "metadata": {
        "id": "t1EdpYJNPQFY"
      }
    },
    {
      "cell_type": "code",
      "source": [
        "## 1. Become one with the data\n",
        "\n",
        "!wget \"https://storage.googleapis.com/ztm_tf_course/food_vision/10_food_classes_all_data.zip\"\n",
        "\n",
        "import zipfile\n",
        "\n",
        "zip_ref = zipfile.ZipFile(\"10_food_classes_all_data.zip\")\n",
        "zip_ref.extractall()\n",
        "zip_ref.close()"
      ],
      "metadata": {
        "colab": {
          "base_uri": "https://localhost:8080/"
        },
        "id": "tSR5A9GBhtuy",
        "outputId": "c59c1d94-2942-492c-9668-44514732bd1f"
      },
      "execution_count": 1,
      "outputs": [
        {
          "output_type": "stream",
          "name": "stdout",
          "text": [
            "--2023-01-10 01:05:16--  https://storage.googleapis.com/ztm_tf_course/food_vision/10_food_classes_all_data.zip\n",
            "Resolving storage.googleapis.com (storage.googleapis.com)... 142.251.10.128, 142.251.12.128, 172.217.194.128, ...\n",
            "Connecting to storage.googleapis.com (storage.googleapis.com)|142.251.10.128|:443... connected.\n",
            "HTTP request sent, awaiting response... 200 OK\n",
            "Length: 519183241 (495M) [application/zip]\n",
            "Saving to: ‘10_food_classes_all_data.zip’\n",
            "\n",
            "10_food_classes_all 100%[===================>] 495.13M  24.0MB/s    in 22s     \n",
            "\n",
            "2023-01-10 01:05:38 (22.4 MB/s) - ‘10_food_classes_all_data.zip’ saved [519183241/519183241]\n",
            "\n"
          ]
        }
      ]
    },
    {
      "cell_type": "code",
      "source": [
        "# Check the folders\n",
        "import os\n",
        "\n",
        "for dir_path, dir_names, file_names in os.walk(\"10_food_classes_all_data\"):\n",
        "  print(f\"The folder {dir_path} has {len(dir_names)} directories and {len(file_names)} files\")"
      ],
      "metadata": {
        "colab": {
          "base_uri": "https://localhost:8080/"
        },
        "id": "4nq6ERnFiNit",
        "outputId": "79116398-7de1-415a-bcc8-842b56683739"
      },
      "execution_count": 2,
      "outputs": [
        {
          "output_type": "stream",
          "name": "stdout",
          "text": [
            "The folder 10_food_classes_all_data has 2 directories and 0 files\n",
            "The folder 10_food_classes_all_data/train has 10 directories and 0 files\n",
            "The folder 10_food_classes_all_data/train/fried_rice has 0 directories and 750 files\n",
            "The folder 10_food_classes_all_data/train/pizza has 0 directories and 750 files\n",
            "The folder 10_food_classes_all_data/train/chicken_wings has 0 directories and 750 files\n",
            "The folder 10_food_classes_all_data/train/ice_cream has 0 directories and 750 files\n",
            "The folder 10_food_classes_all_data/train/steak has 0 directories and 750 files\n",
            "The folder 10_food_classes_all_data/train/sushi has 0 directories and 750 files\n",
            "The folder 10_food_classes_all_data/train/hamburger has 0 directories and 750 files\n",
            "The folder 10_food_classes_all_data/train/ramen has 0 directories and 750 files\n",
            "The folder 10_food_classes_all_data/train/grilled_salmon has 0 directories and 750 files\n",
            "The folder 10_food_classes_all_data/train/chicken_curry has 0 directories and 750 files\n",
            "The folder 10_food_classes_all_data/test has 10 directories and 0 files\n",
            "The folder 10_food_classes_all_data/test/fried_rice has 0 directories and 250 files\n",
            "The folder 10_food_classes_all_data/test/pizza has 0 directories and 250 files\n",
            "The folder 10_food_classes_all_data/test/chicken_wings has 0 directories and 250 files\n",
            "The folder 10_food_classes_all_data/test/ice_cream has 0 directories and 250 files\n",
            "The folder 10_food_classes_all_data/test/steak has 0 directories and 250 files\n",
            "The folder 10_food_classes_all_data/test/sushi has 0 directories and 250 files\n",
            "The folder 10_food_classes_all_data/test/hamburger has 0 directories and 250 files\n",
            "The folder 10_food_classes_all_data/test/ramen has 0 directories and 250 files\n",
            "The folder 10_food_classes_all_data/test/grilled_salmon has 0 directories and 250 files\n",
            "The folder 10_food_classes_all_data/test/chicken_curry has 0 directories and 250 files\n"
          ]
        }
      ]
    },
    {
      "cell_type": "code",
      "source": [
        "# Get class names\n",
        "import pathlib\n",
        "import numpy as np\n",
        "\n",
        "data_dir = pathlib.Path(\"10_food_classes_all_data/train\")\n",
        "class_names = np.array(sorted([item.name for item in data_dir.glob(\"*\")]))\n",
        "class_names"
      ],
      "metadata": {
        "colab": {
          "base_uri": "https://localhost:8080/"
        },
        "id": "U4pojFPdjK6Q",
        "outputId": "aa7a1729-5bc7-43f6-eb68-6d7806fd76cc"
      },
      "execution_count": 3,
      "outputs": [
        {
          "output_type": "execute_result",
          "data": {
            "text/plain": [
              "array(['chicken_curry', 'chicken_wings', 'fried_rice', 'grilled_salmon',\n",
              "       'hamburger', 'ice_cream', 'pizza', 'ramen', 'steak', 'sushi'],\n",
              "      dtype='<U14')"
            ]
          },
          "metadata": {},
          "execution_count": 3
        }
      ]
    },
    {
      "cell_type": "code",
      "source": [
        "# Set up the train and test directories\n",
        "\n",
        "train_dir = \"10_food_classes_all_data/train\"\n",
        "test_dir = \"10_food_classes_all_data/test\""
      ],
      "metadata": {
        "id": "ERRIjC8wlDB3"
      },
      "execution_count": 4,
      "outputs": []
    },
    {
      "cell_type": "code",
      "source": [
        "# Visualize the data in the various classes randomly\n",
        "# Restudy\n",
        "import random\n",
        "from matplotlib import pyplot as plt \n",
        "import matplotlib.image as mpimg\n",
        "\n",
        "def view_random_image(target_dir, class_name):\n",
        "  img_path = target_dir + \"/\" + class_name\n",
        "\n",
        "  random_img = random.choice(os.listdir(img_path))\n",
        "  print(random_img)\n",
        "\n",
        "  image = mpimg.imread(img_path + \"/\" + random_img)\n",
        "  plt.imshow(image)\n",
        "  plt.title(class_name)\n",
        "  plt.axis(\"off\")\n",
        "\n",
        "  print(f\"Image Shape is {image.shape}\")\n",
        "\n",
        "  return image"
      ],
      "metadata": {
        "id": "HVkMpJrylPRY"
      },
      "execution_count": 5,
      "outputs": []
    },
    {
      "cell_type": "code",
      "source": [
        "image = view_random_image(train_dir, random.choice(class_names))"
      ],
      "metadata": {
        "colab": {
          "base_uri": "https://localhost:8080/",
          "height": 300
        },
        "id": "-ihI1tORmeqY",
        "outputId": "c56fffd6-4fb6-49c7-f2c2-351ed474815e"
      },
      "execution_count": 6,
      "outputs": [
        {
          "output_type": "stream",
          "name": "stdout",
          "text": [
            "2693460.jpg\n",
            "Image Shape is (512, 383, 3)\n"
          ]
        },
        {
          "output_type": "display_data",
          "data": {
            "text/plain": [
              "<Figure size 432x288 with 1 Axes>"
            ],
            "image/png": "[encoded data removed]"
          },
          "metadata": {
            "needs_background": "light"
          }
        }
      ]
    },
    {
      "cell_type": "code",
      "source": [
        "## 2. Preprocess the data\n",
        "\n",
        "import tensorflow as tf\n",
        "from keras.preprocessing.image import ImageDataGenerator\n",
        "\n",
        "# Rescale\n",
        "train_datagen = ImageDataGenerator(rescale=1/255.)\n",
        "test_datagen = ImageDataGenerator(rescale=1/255.)"
      ],
      "metadata": {
        "id": "VNM2NECGptIn"
      },
      "execution_count": 7,
      "outputs": []
    },
    {
      "cell_type": "code",
      "source": [
        "# Load data from directories and turn them into tensors\n",
        "train_data = train_datagen.flow_from_directory(train_dir,\n",
        "                                               batch_size=32,\n",
        "                                               class_mode=\"categorical\",\n",
        "                                               target_size=(224, 224),\n",
        "                                               shuffle=True)\n",
        "\n",
        "test_data = test_datagen.flow_from_directory(test_dir,\n",
        "                                             batch_size=32,\n",
        "                                             class_mode=\"categorical\",\n",
        "                                             target_size=(224, 224),\n",
        "                                             shuffle=True)"
      ],
      "metadata": {
        "colab": {
          "base_uri": "https://localhost:8080/"
        },
        "id": "Osu9ryeVqpfs",
        "outputId": "a915ffc5-2159-443c-b54b-699f891ac714"
      },
      "execution_count": 8,
      "outputs": [
        {
          "output_type": "stream",
          "name": "stdout",
          "text": [
            "Found 7500 images belonging to 10 classes.\n",
            "Found 2500 images belonging to 10 classes.\n"
          ]
        }
      ]
    },
    {
      "cell_type": "code",
      "source": [
        "# Create a baseline model\n",
        "\n",
        "model_0 = tf.keras.models.Sequential([\n",
        "    tf.keras.layers.Conv2D(filters=10,\n",
        "                           kernel_size=3,\n",
        "                           strides=1,\n",
        "                           padding=\"valid\",\n",
        "                           activation=\"relu\",\n",
        "                           input_shape=(224,224,3)),\n",
        "    tf.keras.layers.Conv2D(10, 3, activation=\"relu\"),\n",
        "    tf.keras.layers.MaxPool2D(pool_size=(2,2)),\n",
        "    tf.keras.layers.Conv2D(10, 3, activation=\"relu\"),\n",
        "    tf.keras.layers.Conv2D(10, 3, activation=\"relu\"),\n",
        "    tf.keras.layers.MaxPool2D(pool_size=(2,2)),\n",
        "    tf.keras.layers.Flatten(),\n",
        "    tf.keras.layers.Dense(10, activation=\"sigmoid\")\n",
        "])"
      ],
      "metadata": {
        "id": "zBWiPiLqwxgm"
      },
      "execution_count": 9,
      "outputs": []
    },
    {
      "cell_type": "code",
      "source": [
        "# Compile the model\n",
        "model_0.compile(loss=tf.keras.losses.CategoricalCrossentropy(),\n",
        "                optimizer=tf.keras.optimizers.Adam(),\n",
        "                metrics=[\"accuracy\"])"
      ],
      "metadata": {
        "id": "pgcvT4H6zoiz"
      },
      "execution_count": 10,
      "outputs": []
    },
    {
      "cell_type": "code",
      "source": [
        "# Get the model summary\n",
        "model_0.summary()"
      ],
      "metadata": {
        "colab": {
          "base_uri": "https://localhost:8080/"
        },
        "id": "cchl4YO5z5pd",
        "outputId": "e4886d3c-f7b3-4fb7-8986-16293d66ed1a"
      },
      "execution_count": 11,
      "outputs": [
        {
          "output_type": "stream",
          "name": "stdout",
          "text": [
            "Model: \"sequential\"\n",
            "_________________________________________________________________\n",
            " Layer (type)                Output Shape              Param #   \n",
            "=================================================================\n",
            " conv2d (Conv2D)             (None, 222, 222, 10)      280       \n",
            "                                                                 \n",
            " conv2d_1 (Conv2D)           (None, 220, 220, 10)      910       \n",
            "                                                                 \n",
            " max_pooling2d (MaxPooling2D  (None, 110, 110, 10)     0         \n",
            " )                                                               \n",
            "                                                                 \n",
            " conv2d_2 (Conv2D)           (None, 108, 108, 10)      910       \n",
            "                                                                 \n",
            " conv2d_3 (Conv2D)           (None, 106, 106, 10)      910       \n",
            "                                                                 \n",
            " max_pooling2d_1 (MaxPooling  (None, 53, 53, 10)       0         \n",
            " 2D)                                                             \n",
            "                                                                 \n",
            " flatten (Flatten)           (None, 28090)             0         \n",
            "                                                                 \n",
            " dense (Dense)               (None, 10)                280910    \n",
            "                                                                 \n",
            "=================================================================\n",
            "Total params: 283,920\n",
            "Trainable params: 283,920\n",
            "Non-trainable params: 0\n",
            "_________________________________________________________________\n"
          ]
        }
      ]
    },
    {
      "cell_type": "code",
      "source": [
        "# Fit the model\n",
        "history_0 = model_0.fit(train_data,\n",
        "                        epochs=5,\n",
        "                        steps_per_epoch=len(train_data),\n",
        "                        validation_data=test_data,\n",
        "                        validation_steps=len(test_data))"
      ],
      "metadata": {
        "colab": {
          "base_uri": "https://localhost:8080/"
        },
        "id": "GFukuCKi0RPI",
        "outputId": "1a91d6ca-48d6-4164-c85a-d3d868f31ed4"
      },
      "execution_count": 12,
      "outputs": [
        {
          "output_type": "stream",
          "name": "stdout",
          "text": [
            "Epoch 1/5\n",
            "235/235 [==============================] - 74s 272ms/step - loss: 2.1846 - accuracy: 0.2056 - val_loss: 2.0586 - val_accuracy: 0.2460\n",
            "Epoch 2/5\n",
            "235/235 [==============================] - 51s 215ms/step - loss: 1.9674 - accuracy: 0.3099 - val_loss: 1.9340 - val_accuracy: 0.3228\n",
            "Epoch 3/5\n",
            "235/235 [==============================] - 47s 199ms/step - loss: 1.6431 - accuracy: 0.4403 - val_loss: 1.8775 - val_accuracy: 0.3408\n",
            "Epoch 4/5\n",
            "235/235 [==============================] - 46s 195ms/step - loss: 1.0221 - accuracy: 0.6713 - val_loss: 2.4056 - val_accuracy: 0.3192\n",
            "Epoch 5/5\n",
            "235/235 [==============================] - 45s 193ms/step - loss: 0.4199 - accuracy: 0.8689 - val_loss: 3.2748 - val_accuracy: 0.2812\n"
          ]
        }
      ]
    },
    {
      "cell_type": "code",
      "source": [
        "# Evaluate the model\n",
        "model_0.evaluate(test_data)"
      ],
      "metadata": {
        "colab": {
          "base_uri": "https://localhost:8080/"
        },
        "id": "ugQicJdP34cH",
        "outputId": "8f810ced-3876-4964-9fad-a49fdfe10789"
      },
      "execution_count": 13,
      "outputs": [
        {
          "output_type": "stream",
          "name": "stdout",
          "text": [
            "79/79 [==============================] - 11s 141ms/step - loss: 3.2748 - accuracy: 0.2812\n"
          ]
        },
        {
          "output_type": "execute_result",
          "data": {
            "text/plain": [
              "[3.2748055458068848, 0.28119999170303345]"
            ]
          },
          "metadata": {},
          "execution_count": 13
        }
      ]
    },
    {
      "cell_type": "code",
      "source": [
        "# Plot the curves\n",
        "import matplotlib.pyplot as plt\n",
        "\n",
        "def plot_loss_and_accuracy(history):\n",
        "  loss = history.history[\"loss\"]\n",
        "  val_loss = history.history[\"val_loss\"]\n",
        "\n",
        "  accuracy = history.history[\"accuracy\"]\n",
        "  val_accuracy = history.history[\"val_accuracy\"]\n",
        "\n",
        "  epochs = range(len(history.history[\"loss\"]))\n",
        "\n",
        "  plt.figure(figsize=(10,7))\n",
        "  plt.plot(epochs, loss, label=\"training_loss\")\n",
        "  plt.plot(epochs, val_loss, label=\"validation_loss\")\n",
        "  plt.legend()\n",
        "  plt.title(\"Loss Curves\")\n",
        "\n",
        "  plt.figure(figsize=(10,7))\n",
        "  plt.plot(epochs, accuracy, label=\"training_accuracy\")\n",
        "  plt.plot(epochs, val_accuracy, label=\"validation_accuracy\")\n",
        "  plt.legend()\n",
        "  plt.title(\"Accuracy Curves\")"
      ],
      "metadata": {
        "id": "9erFlZSa1sFJ"
      },
      "execution_count": 14,
      "outputs": []
    },
    {
      "cell_type": "code",
      "source": [
        "plot_loss_and_accuracy(history_0)"
      ],
      "metadata": {
        "colab": {
          "base_uri": "https://localhost:8080/",
          "height": 871
        },
        "id": "Ay_X-rqh241R",
        "outputId": "b655f7a4-a8c3-48d3-ceb6-50f2992bbfda"
      },
      "execution_count": 15,
      "outputs": [
        {
          "output_type": "display_data",
          "data": {
            "text/plain": [
              "<Figure size 720x504 with 1 Axes>"
            ],
            "image/png": "[encoded data removed]"
          },
          "metadata": {
            "needs_background": "light"
          }
        },
        {
          "output_type": "display_data",
          "data": {
            "text/plain": [
              "<Figure size 720x504 with 1 Axes>"
            ],
            "image/png": "[encoded data removed]"
          },
          "metadata": {
            "needs_background": "light"
          }
        }
      ]
    },
    {
      "cell_type": "markdown",
      "source": [
        "Model is overfittng. Performs poorly on test data set"
      ],
      "metadata": {
        "id": "AbFc05ca44wL"
      }
    },
    {
      "cell_type": "markdown",
      "source": [
        "## Adjust the model hyperparameters to beat basemodel / reduce overfitting\n",
        "\n",
        "Lets try and fix overfitting by:\n",
        "\n",
        "- Get more data\n",
        "- Simplify the model - our current model might be too complicated. One way to simplify is to reduce number of layers or reduce number of hidden units in layers\n",
        "- Use Data Augmentation - Data Augmentation manipulates training data to add more diversity to it\n",
        "- Transfer learning "
      ],
      "metadata": {
        "id": "qs8u3f3a49nx"
      }
    },
    {
      "cell_type": "code",
      "source": [
        "# Create a simple model\n",
        "\n",
        "model_1 = tf.keras.models.Sequential([\n",
        "    tf.keras.layers.Conv2D(filters=10,\n",
        "                           kernel_size=3,\n",
        "                           strides=1,\n",
        "                           padding=\"valid\",\n",
        "                           input_shape=(224,224,3),\n",
        "                           activation=\"relu\"),\n",
        "    tf.keras.layers.MaxPool2D(pool_size=(2,2)),\n",
        "    tf.keras.layers.Conv2D(10,3, activation=\"relu\"),\n",
        "    tf.keras.layers.MaxPool2D(pool_size=(2,2)),\n",
        "    tf.keras.layers.Flatten(),\n",
        "    tf.keras.layers.Dense(10, activation=\"softmax\")\n",
        "])"
      ],
      "metadata": {
        "id": "DhiGs33_8-yn"
      },
      "execution_count": null,
      "outputs": []
    },
    {
      "cell_type": "code",
      "source": [
        "# Compile the model\n",
        "model_1.compile(loss=tf.keras.losses.CategoricalCrossentropy(),\n",
        "                optimizer=tf.keras.optimizers.Adam(),\n",
        "                metrics=[\"accuracy\"])"
      ],
      "metadata": {
        "id": "CVRTudJR_H7-"
      },
      "execution_count": 17,
      "outputs": []
    },
    {
      "cell_type": "code",
      "source": [
        "# Get the model summary\n",
        "model_1.summary()"
      ],
      "metadata": {
        "colab": {
          "base_uri": "https://localhost:8080/"
        },
        "id": "2VjPGO3j_Jyv",
        "outputId": "f885117d-2c52-44d2-bb79-9e9531d0dede"
      },
      "execution_count": 18,
      "outputs": [
        {
          "output_type": "stream",
          "name": "stdout",
          "text": [
            "Model: \"sequential_1\"\n",
            "_________________________________________________________________\n",
            " Layer (type)                Output Shape              Param #   \n",
            "=================================================================\n",
            " conv2d_4 (Conv2D)           (None, 222, 222, 10)      280       \n",
            "                                                                 \n",
            " max_pooling2d_2 (MaxPooling  (None, 111, 111, 10)     0         \n",
            " 2D)                                                             \n",
            "                                                                 \n",
            " conv2d_5 (Conv2D)           (None, 109, 109, 10)      910       \n",
            "                                                                 \n",
            " max_pooling2d_3 (MaxPooling  (None, 54, 54, 10)       0         \n",
            " 2D)                                                             \n",
            "                                                                 \n",
            " flatten_1 (Flatten)         (None, 29160)             0         \n",
            "                                                                 \n",
            " dense_1 (Dense)             (None, 10)                291610    \n",
            "                                                                 \n",
            "=================================================================\n",
            "Total params: 292,800\n",
            "Trainable params: 292,800\n",
            "Non-trainable params: 0\n",
            "_________________________________________________________________\n"
          ]
        }
      ]
    },
    {
      "cell_type": "code",
      "source": [
        "# Fit the model\n",
        "history_1 = model_1.fit(train_data,\n",
        "                        epochs=5,\n",
        "                        steps_per_epoch=len(train_data),\n",
        "                        validation_data=test_data,\n",
        "                        validation_steps=len(test_data))"
      ],
      "metadata": {
        "colab": {
          "base_uri": "https://localhost:8080/"
        },
        "id": "VQCXvkj7_Lnd",
        "outputId": "8f6e013c-20ce-4ae8-882b-d655cbb60011"
      },
      "execution_count": 19,
      "outputs": [
        {
          "output_type": "stream",
          "name": "stdout",
          "text": [
            "Epoch 1/5\n",
            "235/235 [==============================] - 45s 190ms/step - loss: 2.1583 - accuracy: 0.2213 - val_loss: 1.9510 - val_accuracy: 0.3020\n",
            "Epoch 2/5\n",
            "235/235 [==============================] - 44s 187ms/step - loss: 1.8440 - accuracy: 0.3616 - val_loss: 1.9078 - val_accuracy: 0.3404\n",
            "Epoch 3/5\n",
            "235/235 [==============================] - 44s 189ms/step - loss: 1.5896 - accuracy: 0.4647 - val_loss: 1.9590 - val_accuracy: 0.3060\n",
            "Epoch 4/5\n",
            "235/235 [==============================] - 45s 190ms/step - loss: 1.2854 - accuracy: 0.5809 - val_loss: 2.1116 - val_accuracy: 0.3004\n",
            "Epoch 5/5\n",
            "235/235 [==============================] - 44s 188ms/step - loss: 0.9031 - accuracy: 0.7193 - val_loss: 2.3082 - val_accuracy: 0.3152\n"
          ]
        }
      ]
    },
    {
      "cell_type": "code",
      "source": [
        "# Evaluate the model\n",
        "model_1.evaluate(test_data)"
      ],
      "metadata": {
        "id": "HnnsaN3T_NLM"
      },
      "execution_count": null,
      "outputs": []
    },
    {
      "cell_type": "code",
      "source": [
        "# Plot the curves\n",
        "plot_loss_and_accuracy(history_1)"
      ],
      "metadata": {
        "id": "4ROBx9Ic_9Fi"
      },
      "execution_count": null,
      "outputs": []
    },
    {
      "cell_type": "markdown",
      "source": [
        "No improvement with reducing number of layers as number of parameters is greater than that in model_0\n",
        "Accuracy of validation went down and overfitting continued...\n",
        "\n",
        "Adding Conv layers will force models to learn minor features. Removing them thus was not a good idea"
      ],
      "metadata": {
        "id": "v52dp4AoAIyq"
      }
    },
    {
      "cell_type": "code",
      "source": [
        "# Try data augmentation\n",
        "train_datagen_augmented = ImageDataGenerator(rotation_range=0.2,\n",
        "                                             width_shift_range=0.2,\n",
        "                                             height_shift_range=0.2,\n",
        "                                             zoom_range=0.2,\n",
        "                                             horizontal_flip=True,\n",
        "                                             rescale=1/255.\n",
        "                                             )\n",
        "\n",
        "test_datagen = ImageDataGenerator(rescale=1/255.)"
      ],
      "metadata": {
        "id": "qDJ2g3NSAfZ9"
      },
      "execution_count": null,
      "outputs": []
    },
    {
      "cell_type": "code",
      "source": [
        "train_data_augmented = train_datagen_augmented.flow_from_directory(train_dir,\n",
        "                                                                   class_mode=\"categorical\",\n",
        "                                                                   target_size=(224,224),\n",
        "                                                                   shuffle=True,\n",
        "                                                                   batch_size=32)\n",
        "\n",
        "test_data = test_datagen.flow_from_directory(test_dir,\n",
        "                                             class_mode=\"categorical\",\n",
        "                                             shuffle=True,\n",
        "                                             target_size=(224,224),\n",
        "                                             batch_size=32\n",
        "                                             )"
      ],
      "metadata": {
        "id": "BB6ailEtB5zS"
      },
      "execution_count": null,
      "outputs": []
    },
    {
      "cell_type": "code",
      "source": [
        "# Create the model\n",
        "model_3 = tf.keras.models.Sequential([\n",
        "    tf.keras.layers.Conv2D(filters=10,\n",
        "                           kernel_size=(3,3),\n",
        "                           strides=1,\n",
        "                           padding=\"valid\",\n",
        "                           activation=\"relu\",\n",
        "                           input_shape=(224, 224,3)),\n",
        "    tf.keras.layers.Conv2D(10, 3, activation=\"relu\"),\n",
        "    tf.keras.layers.MaxPool2D(pool_size=(2,2)),\n",
        "    tf.keras.layers.Conv2D(10, 3, activation=\"relu\"),\n",
        "    tf.keras.layers.Conv2D(10, 3, activation=\"relu\"),\n",
        "    tf.keras.layers.MaxPool2D(pool_size=(2,2)),\n",
        "    tf.keras.layers.Flatten(),\n",
        "    tf.keras.layers.Dense(10, activation=\"sigmoid\")\n",
        "])\n"
      ],
      "metadata": {
        "id": "TbbpmZtcDKEw"
      },
      "execution_count": null,
      "outputs": []
    },
    {
      "cell_type": "code",
      "source": [
        "# Compile model\n",
        "model_3.compile(loss=tf.keras.losses.CategoricalCrossentropy(),\n",
        "                optimizer=tf.keras.optimizers.Adam(),\n",
        "                metrics=[\"accuracy\"])"
      ],
      "metadata": {
        "id": "wgUZGdz1EVbd"
      },
      "execution_count": null,
      "outputs": []
    },
    {
      "cell_type": "code",
      "source": [
        "# Fit the model\n",
        "history_3 = model_3.fit(train_data_augmented,\n",
        "                        epochs=5,\n",
        "                        steps_per_epoch=len(train_data_augmented),\n",
        "                        validation_data=test_data,\n",
        "                        validation_steps=len(test_data)\n",
        "                        )"
      ],
      "metadata": {
        "colab": {
          "base_uri": "https://localhost:8080/"
        },
        "id": "IVdqNPt4Eos8",
        "outputId": "778b3ec5-4f39-48e0-8475-6d1119dc12bc"
      },
      "execution_count": 26,
      "outputs": [
        {
          "output_type": "stream",
          "name": "stdout",
          "text": [
            "Epoch 1/5\n",
            "235/235 [==============================] - 112s 474ms/step - loss: 2.1929 - accuracy: 0.1899 - val_loss: 2.1107 - val_accuracy: 0.2416\n",
            "Epoch 2/5\n",
            "235/235 [==============================] - 111s 470ms/step - loss: 2.0921 - accuracy: 0.2524 - val_loss: 1.9767 - val_accuracy: 0.3036\n",
            "Epoch 3/5\n",
            "235/235 [==============================] - 111s 470ms/step - loss: 2.0320 - accuracy: 0.2793 - val_loss: 1.8850 - val_accuracy: 0.3348\n",
            "Epoch 4/5\n",
            "235/235 [==============================] - 110s 466ms/step - loss: 1.9941 - accuracy: 0.2953 - val_loss: 1.8331 - val_accuracy: 0.3652\n",
            "Epoch 5/5\n",
            "235/235 [==============================] - 109s 464ms/step - loss: 1.9478 - accuracy: 0.3241 - val_loss: 1.7676 - val_accuracy: 0.4052\n"
          ]
        }
      ]
    },
    {
      "cell_type": "code",
      "source": [
        "# Evaluate the model\n",
        "model_3.evaluate(test_data)"
      ],
      "metadata": {
        "id": "ifLiWHBXF3zE"
      },
      "execution_count": null,
      "outputs": []
    },
    {
      "cell_type": "code",
      "source": [
        "#PLot the curves\n",
        "plot_loss_and_accuracy(history_3)"
      ],
      "metadata": {
        "id": "pZm_jCIxF8fm"
      },
      "execution_count": null,
      "outputs": []
    },
    {
      "cell_type": "markdown",
      "source": [
        "The curves of the test data re moving in the rt direction. If we were to train for longer, we might see further improvements"
      ],
      "metadata": {
        "id": "ODxWIdF6IEEP"
      }
    },
    {
      "cell_type": "markdown",
      "source": [
        "## Repeat until satisfied\n",
        "\n",
        "- Increase layers/hidden units\n",
        "- Adjust learning rate\n",
        "- Data Augmentation (try out different options)\n",
        "- Train for longer\n",
        "- Try transfer learning"
      ],
      "metadata": {
        "id": "dkclH4HTIfVN"
      }
    },
    {
      "cell_type": "code",
      "source": [
        "## Make predictions\n",
        "\n",
        "!wget \"https://github.com/mrdbourke/tensorflow-deep-learning/blob/main/images/03-hamburger.jpeg\"\n",
        "!wget \"https://github.com/mrdbourke/tensorflow-deep-learning/blob/main/images/03-pizza-dad.jpeg\"\n",
        "!wget \"https://github.com/mrdbourke/tensorflow-deep-learning/blob/main/images/03-steak.jpeg\"\n",
        "!wget \"https://github.com/mrdbourke/tensorflow-deep-learning/blob/main/images/03-sushi.jpeg\""
      ],
      "metadata": {
        "id": "fmAY2VvjJ1ME"
      },
      "execution_count": null,
      "outputs": []
    },
    {
      "cell_type": "code",
      "source": [
        "# Import the target image and preprocess it\n",
        "\n",
        "def load_and_prep_image(filename):\n",
        "\n",
        "  # Read in target file\n",
        "  img = tf.io.read_file(filename)\n",
        "\n",
        "  # Decode the read file into tensor and ensure 3 channels\n",
        "  img = tf.image.decode_image(img, channels=3)\n",
        "\n",
        "  # Resizze the image\n",
        "  img = tf.image.resize(img, size=[224, 224])\n",
        "\n",
        "  # Rescale the image\n",
        "  img = img/255.\n",
        "\n",
        "  return img"
      ],
      "metadata": {
        "id": "OfiFTkbsK-cd"
      },
      "execution_count": null,
      "outputs": []
    },
    {
      "cell_type": "code",
      "source": [
        "# Reshape the image \n",
        "def pred_and_plot(model, filename, class_names=class_names):\n",
        "  # Import the target image and preprocess it\n",
        "  img = load_and_prep_image(filename)\n",
        "\n",
        "  # Make a prediction\n",
        "  pred = model.predict(tf.expand_dims(img, axis=0))\n",
        "\n",
        "  # Get the predicted class \n",
        "  if len(pred[0]) > 1:\n",
        "    pred_class = class_names[tf.argmax(pred[0])]\n",
        "  else:\n",
        "    pred_class = class_names[int(tf.round(pred))]\n",
        "\n",
        "  # Plot the image and class\n",
        "  plt.imshow(img)\n",
        "  plt.title(f\"Predicted: {pred_class}\")\n",
        "  plt.axis(\"off\")"
      ],
      "metadata": {
        "id": "VP70Dqz0KXCL"
      },
      "execution_count": 31,
      "outputs": []
    },
    {
      "cell_type": "code",
      "source": [
        "pred_and_plot(model_3, \"03-pizza-dad.jpeg\", class_names=class_names)"
      ],
      "metadata": {
        "id": "npms7pYBOQwK"
      },
      "execution_count": null,
      "outputs": []
    },
    {
      "cell_type": "code",
      "source": [
        "pred_and_plot(model_3, \"03-steak.jpeg\", class_names=class_names)"
      ],
      "metadata": {
        "id": "3uSZr1jtOtmr"
      },
      "execution_count": null,
      "outputs": []
    },
    {
      "cell_type": "code",
      "source": [
        "pred_and_plot(model_3, \"03-hamburger.jpeg\", class_names=class_names)"
      ],
      "metadata": {
        "id": "9soyBTC5O09E"
      },
      "execution_count": null,
      "outputs": []
    },
    {
      "cell_type": "markdown",
      "source": [
        "All predictions were wrong on custom images\n",
        "Accuracy was low"
      ],
      "metadata": {
        "id": "mNVe9SfWO39l"
      }
    },
    {
      "cell_type": "markdown",
      "source": [
        "## Saving and loading a model"
      ],
      "metadata": {
        "id": "P1ptXL4vPAxE"
      }
    },
    {
      "cell_type": "code",
      "source": [
        "# Save a model\n",
        "model_3.save(\"saved_trained_model_3\")"
      ],
      "metadata": {
        "id": "vwi7P_iHPI6E"
      },
      "execution_count": null,
      "outputs": []
    },
    {
      "cell_type": "code",
      "source": [
        "# Load in a trained model and evaluate it\n",
        "loaded_model_10 = tf.keras.models.load_model(\"saved_trained_model_3\")\n",
        "loaded_model_3.evaluate(test_data)"
      ],
      "metadata": {
        "id": "JCmgpXvLPYTk"
      },
      "execution_count": null,
      "outputs": []
    },
    {
      "cell_type": "code",
      "source": [
        "# Compare the loaded model to our existing model\n",
        "model_3.evaluate(test_data)"
      ],
      "metadata": {
        "id": "usntKjkKPpMq"
      },
      "execution_count": null,
      "outputs": []
    }
  ]
}