{
  "nbformat": 4,
  "nbformat_minor": 0,
  "metadata": {
    "colab": {
      "provenance": [],
      "authorship_tag": "ABX9TyM2gKP7QH9vrbZOx7jQmZzX",
      "include_colab_link": true
    },
    "kernelspec": {
      "name": "python3",
      "display_name": "Python 3"
    },
    "language_info": {
      "name": "python"
    }
  },
  "cells": [
    {
      "cell_type": "markdown",
      "metadata": {
        "id": "view-in-github",
        "colab_type": "text"
      },
      "source": [
        "<a href=\"https://colab.research.google.com/github/laxmiharikumar/Tips-Tricks/blob/master/Muticlass_CNN.ipynb\" target=\"_parent\"><img src=\"https://colab.research.google.com/assets/colab-badge.svg\" alt=\"Open In Colab\"/></a>"
      ]
    },
    {
      "cell_type": "markdown",
      "source": [
        "# Multi-class image classification\n",
        "\n",
        "1. Become one with the data\n",
        "2. Preprocess the data (get it ready for the model)\n",
        "3. Create a model (baseline)\n",
        "4. Fit the model (overfit it to make sure that it works)\n",
        "5. Evaluate the model\n",
        "6. Adjust the different hyper parameters and improve the model (try to beat the baseline/reduce overfitting)\n",
        "7. Repeat until satisfied"
      ],
      "metadata": {
        "id": "t1EdpYJNPQFY"
      }
    },
    {
      "cell_type": "code",
      "source": [
        "## 1. Become one with the data\n",
        "\n",
        "!wget \"https://storage.googleapis.com/ztm_tf_course/food_vision/10_food_classes_all_data.zip\"\n",
        "\n",
        "import zipfile\n",
        "\n",
        "zip_ref = zipfile.ZipFile(\"10_food_classes_all_data.zip\")\n",
        "zip_ref.extractall()\n",
        "zip_ref.close()"
      ],
      "metadata": {
        "colab": {
          "base_uri": "https://localhost:8080/"
        },
        "id": "tSR5A9GBhtuy",
        "outputId": "975a4b07-7e36-4cf7-dab0-96e167f4dab1"
      },
      "execution_count": 2,
      "outputs": [
        {
          "output_type": "stream",
          "name": "stdout",
          "text": [
            "--2023-01-09 21:57:12--  https://storage.googleapis.com/ztm_tf_course/food_vision/10_food_classes_all_data.zip\n",
            "Resolving storage.googleapis.com (storage.googleapis.com)... 172.217.204.128, 172.217.203.128, 172.253.123.128, ...\n",
            "Connecting to storage.googleapis.com (storage.googleapis.com)|172.217.204.128|:443... connected.\n",
            "HTTP request sent, awaiting response... 200 OK\n",
            "Length: 519183241 (495M) [application/zip]\n",
            "Saving to: ‘10_food_classes_all_data.zip.1’\n",
            "\n",
            "10_food_classes_all 100%[===================>] 495.13M   147MB/s    in 3.4s    \n",
            "\n",
            "2023-01-09 21:57:16 (145 MB/s) - ‘10_food_classes_all_data.zip.1’ saved [519183241/519183241]\n",
            "\n"
          ]
        }
      ]
    },
    {
      "cell_type": "code",
      "source": [
        "# Check the folders\n",
        "import os\n",
        "\n",
        "for dir_path, dir_names, file_names in os.walk(\"10_food_classes_all_data\"):\n",
        "  print(f\"The folder {dir_path} has {len(dir_names)} directories and {len(file_names)} files\")"
      ],
      "metadata": {
        "colab": {
          "base_uri": "https://localhost:8080/"
        },
        "id": "4nq6ERnFiNit",
        "outputId": "fc63852d-df1d-46b3-da45-38bf73cc9079"
      },
      "execution_count": 3,
      "outputs": [
        {
          "output_type": "stream",
          "name": "stdout",
          "text": [
            "The folder 10_food_classes_all_data has 2 directories and 0 files\n",
            "The folder 10_food_classes_all_data/train has 10 directories and 0 files\n",
            "The folder 10_food_classes_all_data/train/hamburger has 0 directories and 750 files\n",
            "The folder 10_food_classes_all_data/train/steak has 0 directories and 750 files\n",
            "The folder 10_food_classes_all_data/train/pizza has 0 directories and 750 files\n",
            "The folder 10_food_classes_all_data/train/sushi has 0 directories and 750 files\n",
            "The folder 10_food_classes_all_data/train/ice_cream has 0 directories and 750 files\n",
            "The folder 10_food_classes_all_data/train/ramen has 0 directories and 750 files\n",
            "The folder 10_food_classes_all_data/train/fried_rice has 0 directories and 750 files\n",
            "The folder 10_food_classes_all_data/train/grilled_salmon has 0 directories and 750 files\n",
            "The folder 10_food_classes_all_data/train/chicken_wings has 0 directories and 750 files\n",
            "The folder 10_food_classes_all_data/train/chicken_curry has 0 directories and 750 files\n",
            "The folder 10_food_classes_all_data/test has 10 directories and 0 files\n",
            "The folder 10_food_classes_all_data/test/hamburger has 0 directories and 250 files\n",
            "The folder 10_food_classes_all_data/test/steak has 0 directories and 250 files\n",
            "The folder 10_food_classes_all_data/test/pizza has 0 directories and 250 files\n",
            "The folder 10_food_classes_all_data/test/sushi has 0 directories and 250 files\n",
            "The folder 10_food_classes_all_data/test/ice_cream has 0 directories and 250 files\n",
            "The folder 10_food_classes_all_data/test/ramen has 0 directories and 250 files\n",
            "The folder 10_food_classes_all_data/test/fried_rice has 0 directories and 250 files\n",
            "The folder 10_food_classes_all_data/test/grilled_salmon has 0 directories and 250 files\n",
            "The folder 10_food_classes_all_data/test/chicken_wings has 0 directories and 250 files\n",
            "The folder 10_food_classes_all_data/test/chicken_curry has 0 directories and 250 files\n"
          ]
        }
      ]
    },
    {
      "cell_type": "code",
      "source": [
        "# Get class names\n",
        "import pathlib\n",
        "import numpy as np\n",
        "\n",
        "path = pathlib.Path(\"10_food_classes_all_data/train\")\n",
        "class_names = np.array([item.name for item in path.glob(\"*\")])\n",
        "class_names"
      ],
      "metadata": {
        "colab": {
          "base_uri": "https://localhost:8080/"
        },
        "id": "U4pojFPdjK6Q",
        "outputId": "22895bd6-fd80-49a3-f9eb-8adce3637782"
      },
      "execution_count": 4,
      "outputs": [
        {
          "output_type": "execute_result",
          "data": {
            "text/plain": [
              "array(['hamburger', 'steak', 'pizza', 'sushi', 'ice_cream', 'ramen',\n",
              "       'fried_rice', 'grilled_salmon', 'chicken_wings', 'chicken_curry'],\n",
              "      dtype='<U14')"
            ]
          },
          "metadata": {},
          "execution_count": 4
        }
      ]
    }
  ]
}